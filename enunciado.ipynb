{
 "cells": [
  {
   "cell_type": "markdown",
   "metadata": {},
   "source": [
    "# Un mal estudio..."
   ]
  },
  {
   "cell_type": "code",
   "execution_count": 1,
   "metadata": {},
   "outputs": [],
   "source": [
    "import pandas as pd\n",
    "import numpy as np"
   ]
  },
  {
   "cell_type": "code",
   "execution_count": 13,
   "metadata": {},
   "outputs": [
    {
     "name": "stdout",
     "output_type": "stream",
     "text": [
      "Index(['Código de mesa', 'Provincia', 'Código \\nmunicipio', 'Municipio',\n",
      "       'Distrito', 'Sección', 'Mesa', 'Censo', 'Primer Avance',\n",
      "       'Segundo Avance', 'Total Votantes', 'Votos Nulos', 'Votos Blanco',\n",
      "       'Partido', 'Nş Votos'],\n",
      "      dtype='object')\n",
      "(51784, 15)\n",
      "   Código de mesa Provincia  Código \\nmunicipio Municipio  Distrito  Sección  \\\n",
      "0  05-001-1-001-U     AVILA                   1   ADANERO         1        1   \n",
      "1  05-001-1-001-U     AVILA                   1   ADANERO         1        1   \n",
      "2  05-001-1-001-U     AVILA                   1   ADANERO         1        1   \n",
      "3  05-001-1-001-U     AVILA                   1   ADANERO         1        1   \n",
      "4  05-001-1-001-U     AVILA                   1   ADANERO         1        1   \n",
      "5  05-001-1-001-U     AVILA                   1   ADANERO         1        1   \n",
      "6  05-001-1-001-U     AVILA                   1   ADANERO         1        1   \n",
      "7  05-001-1-001-U     AVILA                   1   ADANERO         1        1   \n",
      "8  05-001-1-001-U     AVILA                   1   ADANERO         1        1   \n",
      "9  05-001-1-001-U     AVILA                   1   ADANERO         1        1   \n",
      "\n",
      "  Mesa  Censo  Primer Avance  Segundo Avance  Total Votantes  Votos Nulos  \\\n",
      "0    U    173             49              85             108            2   \n",
      "1    U    173             49              85             108            2   \n",
      "2    U    173             49              85             108            2   \n",
      "3    U    173             49              85             108            2   \n",
      "4    U    173             49              85             108            2   \n",
      "5    U    173             49              85             108            2   \n",
      "6    U    173             49              85             108            2   \n",
      "7    U    173             49              85             108            2   \n",
      "8    U    173             49              85             108            2   \n",
      "9    U    173             49              85             108            2   \n",
      "\n",
      "   Votos Blanco         Partido  Nş Votos  \n",
      "0             2              PP        41  \n",
      "1             2             VOX        23  \n",
      "2             2        P.S.O.E.        23  \n",
      "3             2             XAV        13  \n",
      "4             2              Cs         2  \n",
      "5             2   PODEMOS-IU-AV         1  \n",
      "6             2           PACMA         1  \n",
      "7             2   PYC (ANULADA)         0  \n",
      "8             2      PCAS-TC-RC         0  \n",
      "9             2  FE de las JONS         0  \n",
      "4531\n",
      "['C.Bierzo - BEX' 'Cs' 'DESPIERTA' 'EB' 'ESPAŃA VACIADA' 'FE de las JONS'\n",
      " 'P.S.O.E.' 'PACMA' 'PCAS-TC-RC' 'PCAS-TC-Recortes Cero' 'PCTE'\n",
      " 'PODEMOS-IU-AV' 'POR ZAMORA' 'PP' 'PP.CC.AL' 'PREPAL' 'PSOE' 'PUEDE'\n",
      " 'PUM+J' 'PYC (ANULADA)' 'SY' 'TAB' 'UNIÓN REGIONALISTA' 'UPL' 'VOLT'\n",
      " 'VOX' 'XAV' 'ZAMORA DECIDE' 'centrados']\n"
     ]
    }
   ],
   "source": [
    "# Fuente: \n",
    "# https://datos.gob.es/es/catalogo/80a2358d-d745-4632-a422-3556d90e0b47\n",
    "# Publicador  Junta de Castilla y León Público\n",
    "# Nivel de administración  Administración Autonómica\n",
    "# Licencia https://creativecommons.org/licenses/by/4.0/deed.es_ES\n",
    "\n",
    "df = pd.read_csv(\"ResultadosElectorales2022.csv\",encoding=\"cp1250\",sep=\";\")\n",
    "##\n",
    "print(df.columns)\n",
    "print(df.shape)\n",
    "print(df.head(10))\n",
    "##\n",
    "print(len(np.unique(df['Código de mesa'])))\n",
    "##\n",
    "print(np.unique(df.Partido))\n"
   ]
  },
  {
   "cell_type": "markdown",
   "metadata": {},
   "source": [
    "# A1. Si en cada mesa hay 3 voluntarios, ¿cuántos voluntarios han sido necesarios?"
   ]
  },
  {
   "cell_type": "code",
   "execution_count": 8,
   "metadata": {},
   "outputs": [
    {
     "name": "stdout",
     "output_type": "stream",
     "text": [
      "155352\n"
     ]
    }
   ],
   "source": [
    "# Respuesta a revisar \n",
    "print(len(df)*3)"
   ]
  },
  {
   "cell_type": "code",
   "execution_count": 7,
   "metadata": {},
   "outputs": [
    {
     "name": "stdout",
     "output_type": "stream",
     "text": [
      "numero total de voluntarios: 18\n"
     ]
    }
   ],
   "source": [
    "voluntarios_por_mesa = 3 #definir el numero de voluntarios \n",
    "mesas = df['Mesa'].nunique() #obtener el total de mesas\n",
    "total = mesas * voluntarios_por_mesa #ahora si podemos multiplicar \n",
    "print('numero total de voluntarios:', total)"
   ]
  },
  {
   "cell_type": "markdown",
   "metadata": {},
   "source": [
    "# A2. ¿Cuál es la participación media de votantes?"
   ]
  },
  {
   "cell_type": "code",
   "execution_count": 6,
   "metadata": {},
   "outputs": [
    {
     "data": {
      "text/plain": [
       "0.654325195724643"
      ]
     },
     "execution_count": 6,
     "metadata": {},
     "output_type": "execute_result"
    }
   ],
   "source": [
    "# respuesta a revisar \n",
    "(df[\"Total Votantes\"]/df[\"Censo\"]).mean()"
   ]
  },
  {
   "cell_type": "code",
   "execution_count": 5,
   "metadata": {},
   "outputs": [
    {
     "name": "stdout",
     "output_type": "stream",
     "text": [
      "Total de votantes: 14209758\n",
      "Total de censo: 22361212\n",
      "Tasa de participación (%): 63.5464571419474\n"
     ]
    }
   ],
   "source": [
    "total_votantes = df['Total Votantes'].sum()\n",
    "total_censo = df['Censo'].sum()\n",
    "tasa_participacion = (total_votantes / total_censo) * 100\n",
    "\n",
    "print('Total de votantes:', total_votantes)\n",
    "print('Total de censo:', total_censo)\n",
    "print('Tasa de participación (%):', tasa_participacion)"
   ]
  },
  {
   "cell_type": "markdown",
   "metadata": {},
   "source": [
    "# A3. ¿En qué porcentaje de municipios se ha presentado el partido \"ESPAÑA VACIADA\"?"
   ]
  },
  {
   "cell_type": "code",
   "execution_count": 4,
   "metadata": {},
   "outputs": [
    {
     "name": "stdout",
     "output_type": "stream",
     "text": [
      "0.02218832071682373\n"
     ]
    }
   ],
   "source": [
    "# A3. respuesta a revisar\n",
    "dff = df[(df[\"Partido\"].isin([\"ESPAŃA VACIADA\"]))][[\"Municipio\"]]\n",
    "municipios = np.unique(dff.values)\n",
    "print(len(municipios)/len(df))"
   ]
  },
  {
   "cell_type": "code",
   "execution_count": 31,
   "metadata": {},
   "outputs": [
    {
     "name": "stdout",
     "output_type": "stream",
     "text": [
      "Municipios con ESPAÑA VACIADA: 0\n",
      "Total de municipios: 2248\n",
      "Porcentaje de municipios con ESPAÑA VACIADA: 0.0\n"
     ]
    }
   ],
   "source": [
    "# Filtrar los datos para el partido 'ESPAÑA VACIADA'\n",
    "datos_espana_vaciada = df[df['Partido'] == 'ESPAÑA VACIADA']\n",
    "# Obtener el número de municipios únicos donde 'ESPAÑA VACIADA' está presente\n",
    "municipios_con_espana_vaciada = datos_espana_vaciada['Municipio'].nunique()\n",
    "# Obtener el número total de municipios únicos\n",
    "total_municipios = df['Municipio'].nunique()\n",
    "\n",
    "# Calcular el porcentaje\n",
    "porcentaje_municipios_con_espana_vaciada = (municipios_con_espana_vaciada / total_municipios) * 100\n",
    "\n",
    "print('Municipios con ESPAÑA VACIADA:', municipios_con_espana_vaciada)\n",
    "print('Total de municipios:', total_municipios)\n",
    "print('Porcentaje de municipios con ESPAÑA VACIADA:', porcentaje_municipios_con_espana_vaciada)"
   ]
  },
  {
   "cell_type": "markdown",
   "metadata": {},
   "source": [
    "# A4. ¿Cuál es el censo por provincia?"
   ]
  },
  {
   "cell_type": "code",
   "execution_count": 10,
   "metadata": {},
   "outputs": [
    {
     "name": "stdout",
     "output_type": "stream",
     "text": [
      "            Censo\n",
      "Provincia        \n",
      "AVILA         990\n",
      "BURGOS        907\n",
      "LEÓN          878\n",
      "PALENCIA      909\n",
      "SALAMANCA     981\n",
      "SEGOVIA      1061\n",
      "SORIA         828\n",
      "VALLADOLID    944\n",
      "ZAMORA       1158\n"
     ]
    }
   ],
   "source": [
    "# respuesta a revisar\n",
    "df2 = df.groupby([df.columns[1],df.columns[2]]).first().reset_index()\n",
    "print(df2.groupby(\"Provincia\").agg({\"Censo\":np.max}))"
   ]
  },
  {
   "cell_type": "code",
   "execution_count": 22,
   "metadata": {},
   "outputs": [
    {
     "name": "stdout",
     "output_type": "stream",
     "text": [
      "    Provincia    Censo\n",
      "0       AVILA  1292350\n",
      "1      BURGOS  2788430\n",
      "2        LEÓN  4155646\n",
      "3    PALENCIA  1710800\n",
      "4   SALAMANCA  3788652\n",
      "5     SEGOVIA   929832\n",
      "6       SORIA   690830\n",
      "7  VALLADOLID  5415293\n",
      "8      ZAMORA  1589379\n"
     ]
    }
   ],
   "source": [
    "# Agrupar el DataFrame por 'Provincia' y sumar el 'Censo'\n",
    "censo_por_provincia = df.groupby('Provincia')['Censo'].sum().reset_index()\n",
    "\n",
    "# Mostrar el DataFrame ordenado\n",
    "print(censo_por_provincia)"
   ]
  },
  {
   "cell_type": "markdown",
   "metadata": {},
   "source": [
    "# A5. ¿En cuántas mesas electorales el \"PP\" ha obtenido más votos que el \"P.S.O.E.\" o \"PSOE\"?"
   ]
  },
  {
   "cell_type": "code",
   "execution_count": 28,
   "metadata": {},
   "outputs": [
    {
     "name": "stdout",
     "output_type": "stream",
     "text": [
      "El PP ha obtenido más votos que el PSOE en 1661 mesas electorales sobre un total de 4531 mesas. \n"
     ]
    }
   ],
   "source": [
    "# respuesta a revisar \n",
    "dff = df[(df[\"Partido\"].isin([\"PP\",\"P.S.O.E.\",\"PSOE\"]))][[\"Municipio\",\"Código \\nmunicipio\",\"Partido\",df.columns[-1]]]\n",
    "dfpartidos = pd.pivot_table(dff,index=\"Partido\",columns=[\"Municipio\",\"Código \\nmunicipio\"])\n",
    "respectoPSOE = (dfpartidos.loc[\"PP\"]>dfpartidos.loc[\"P.S.O.E.\"]).sum()\n",
    "respectoPSOE += (dfpartidos.loc[\"PP\"]>dfpartidos.loc[\"PSOE\"]).sum()\n",
    "\n",
    "print(\"El PP ha obtenido más votos que el PSOE en %i mesas electorales sobre un total de %i mesas. \"%(respectoPSOE,dff.shape[0]//2))"
   ]
  },
  {
   "cell_type": "code",
   "execution_count": 29,
   "metadata": {},
   "outputs": [
    {
     "name": "stdout",
     "output_type": "stream",
     "text": [
      "PP recibio 2636 mas votos que PSOE\n"
     ]
    }
   ],
   "source": [
    "df.columns = ['Código de mesa', 'Provincia', 'Código municipio', 'Municipio', 'Distrito', 'Sección', 'Mesa', 'Censo', 'Primer Avance', 'Segundo Avance', 'Total Votantes', 'Votos Nulos', 'Votos Blanco', 'Partido', 'Nº Votos']\n",
    "\n",
    "# Filtrar el DataFrame para los votos del partido 'PP'\n",
    "votos_pp = df[df['Partido'] == 'PP'].groupby('Código de mesa')['Nº Votos'].sum().reset_index()\n",
    "\n",
    "# Filtrar el DataFrame para los votos del partido 'P.S.O.E.' o 'PSOE'\n",
    "votos_psoe = df[(df['Partido'] == 'P.S.O.E.') | (df['Partido'] == 'PSOE')].groupby('Código de mesa')['Nº Votos'].sum().reset_index()\n",
    "\n",
    "# Combinar los DataFrames en 'Código de mesa'\n",
    "votos_combinados = votos_pp.merge(votos_psoe, on='Código de mesa', suffixes=('_PP', '_PSOE'))\n",
    "\n",
    "# Calcular dónde 'PP' tiene más votos que 'P.S.O.E.' o 'PSOE'\n",
    "mas_votos_pp = votos_combinados[votos_combinados['Nº Votos_PP'] > votos_combinados['Nº Votos_PSOE']]\n",
    "\n",
    "# Contar el número de casos\n",
    "num_mas_votos_pp = mas_votos_pp.shape[0]\n",
    "\n",
    "# Imprimir el resultado\n",
    "print(f'PP recibio {num_mas_votos_pp} mas votos que PSOE')\n",
    "\n",
    "# respuesta completa de open AI no tengo idea de como hacerlo "
   ]
  },
  {
   "cell_type": "markdown",
   "metadata": {},
   "source": [
    "# A6. ¿Ordena las comunidades según su número de mesas electorales?"
   ]
  },
  {
   "cell_type": "code",
   "execution_count": 50,
   "metadata": {},
   "outputs": [
    {
     "name": "stdout",
     "output_type": "stream",
     "text": [
      "Comunidades y número de mesas:\n",
      " {'AVILA': 769, 'BURGOS': 729, 'LEÓN': 725, 'PALENCIA': 684, 'SALAMANCA': 369, 'SEGOVIA': 356, 'SORIA': 325, 'VALLADOLID': 319, 'ZAMORA': 255}\n"
     ]
    }
   ],
   "source": [
    "#respuesta a revisar \n",
    "comunidades, mesas = np.unique(df.groupby([\"Provincia\",df.columns[0]]).first().index.get_level_values(0),return_counts=True)\n",
    "mesas = sorted(mesas,reverse=True)\n",
    "comunmesas = dict(zip(comunidades,mesas))\n",
    "print(\"Comunidades y número de mesas:\\n\", comunmesas)"
   ]
  },
  {
   "cell_type": "code",
   "execution_count": 30,
   "metadata": {},
   "outputs": [
    {
     "data": {
      "text/html": [
       "<div>\n",
       "<style scoped>\n",
       "    .dataframe tbody tr th:only-of-type {\n",
       "        vertical-align: middle;\n",
       "    }\n",
       "\n",
       "    .dataframe tbody tr th {\n",
       "        vertical-align: top;\n",
       "    }\n",
       "\n",
       "    .dataframe thead th {\n",
       "        text-align: right;\n",
       "    }\n",
       "</style>\n",
       "<table border=\"1\" class=\"dataframe\">\n",
       "  <thead>\n",
       "    <tr style=\"text-align: right;\">\n",
       "      <th></th>\n",
       "      <th>Provincia</th>\n",
       "      <th>Número de Mesas Electorales</th>\n",
       "    </tr>\n",
       "  </thead>\n",
       "  <tbody>\n",
       "    <tr>\n",
       "      <th>0</th>\n",
       "      <td>VALLADOLID</td>\n",
       "      <td>9997</td>\n",
       "    </tr>\n",
       "    <tr>\n",
       "      <th>1</th>\n",
       "      <td>SALAMANCA</td>\n",
       "      <td>9576</td>\n",
       "    </tr>\n",
       "    <tr>\n",
       "      <th>2</th>\n",
       "      <td>LEÓN</td>\n",
       "      <td>7975</td>\n",
       "    </tr>\n",
       "    <tr>\n",
       "      <th>3</th>\n",
       "      <td>BURGOS</td>\n",
       "      <td>7290</td>\n",
       "    </tr>\n",
       "    <tr>\n",
       "      <th>4</th>\n",
       "      <td>PALENCIA</td>\n",
       "      <td>4225</td>\n",
       "    </tr>\n",
       "    <tr>\n",
       "      <th>5</th>\n",
       "      <td>ZAMORA</td>\n",
       "      <td>4059</td>\n",
       "    </tr>\n",
       "    <tr>\n",
       "      <th>6</th>\n",
       "      <td>AVILA</td>\n",
       "      <td>3560</td>\n",
       "    </tr>\n",
       "    <tr>\n",
       "      <th>7</th>\n",
       "      <td>SEGOVIA</td>\n",
       "      <td>2552</td>\n",
       "    </tr>\n",
       "    <tr>\n",
       "      <th>8</th>\n",
       "      <td>SORIA</td>\n",
       "      <td>2550</td>\n",
       "    </tr>\n",
       "  </tbody>\n",
       "</table>\n",
       "</div>"
      ],
      "text/plain": [
       "    Provincia  Número de Mesas Electorales\n",
       "0  VALLADOLID                         9997\n",
       "1   SALAMANCA                         9576\n",
       "2        LEÓN                         7975\n",
       "3      BURGOS                         7290\n",
       "4    PALENCIA                         4225\n",
       "5      ZAMORA                         4059\n",
       "6       AVILA                         3560\n",
       "7     SEGOVIA                         2552\n",
       "8       SORIA                         2550"
      ]
     },
     "execution_count": 30,
     "metadata": {},
     "output_type": "execute_result"
    }
   ],
   "source": [
    "# Ordenar las comunidades por el número de mesas electorales\n",
    "conteo_mesas_por_comunidad = df['Provincia'].value_counts().reset_index()\n",
    "conteo_mesas_por_comunidad.columns = ['Provincia', 'Número de Mesas Electorales']\n",
    "conteo_mesas_por_comunidad\n"
   ]
  }
 ],
 "metadata": {
  "kernelspec": {
   "display_name": "my397",
   "language": "python",
   "name": "python3"
  },
  "language_info": {
   "codemirror_mode": {
    "name": "ipython",
    "version": 3
   },
   "file_extension": ".py",
   "mimetype": "text/x-python",
   "name": "python",
   "nbconvert_exporter": "python",
   "pygments_lexer": "ipython3",
   "version": "3.11.5"
  }
 },
 "nbformat": 4,
 "nbformat_minor": 2
}
